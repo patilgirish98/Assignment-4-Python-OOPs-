{
  "nbformat": 4,
  "nbformat_minor": 0,
  "metadata": {
    "colab": {
      "provenance": []
    },
    "kernelspec": {
      "name": "python3",
      "display_name": "Python 3"
    },
    "language_info": {
      "name": "python"
    }
  },
  "cells": [
    {
      "cell_type": "markdown",
      "source": [
        "# Python OOPs Questions :-"
      ],
      "metadata": {
        "id": "r8zDLlDm404U"
      }
    },
    {
      "cell_type": "markdown",
      "source": [
        " 1. What is Object-Oriented Programming (OOP)\n",
        "    -   Object-Oriented Programming (OOP) is a programming paradigm based on the concept of objects, which are instances of classes. It is designed to make code more modular, reusable, and easier to maintain by organizing data and behavior together.\n",
        "    - Object-Oriented Programming (OOP) is a programming paradigm based on objects and classes. It helps in structuring code using key principles\n",
        "        \n",
        "        1) Encapsulation – Hiding data and exposing only necessary parts.\n",
        "\n",
        "        2) Inheritance – Reusing properties and methods from a parent class\n",
        "\n",
        "        3) Polymorphism – Using a common interface for different types.\n",
        "\n",
        "        4) Abstraction – Hiding complex details and showing only essential features.\n",
        "    - OOP makes code modular, reusable, scalable, and maintainable\n",
        "\n",
        " 2. What is a class in OOP ?\n",
        "  -  A class in Object-Oriented Programming (OOP) is a blueprint or template for creating objects. It defines the attributes (data) and methods (functions) that the objects will have.\n",
        "  - A class is like a blueprint, and objects are the real-world instances.\n",
        "  - It contains attributes (variables) and methods (functions).\n",
        "  - Objects can have different values but share the same structure\n",
        "  - Classes help in organizing, reusing, and structuring code efficiently.\n",
        "\n",
        " 3. What is an object in OOP ?\n",
        "   - An object in Object-Oriented Programming (OOP) is an instance of a class. It represents a real-world entity with attributes (data) and methods (behavior).\n",
        "   - An object is a specific instance of a class\n",
        "   - It has unique values for attributes but follows the same class structure.\n",
        "   - Objects allow us to interact with the data and methods defined in the class.\n",
        "\n",
        " 4. What is the difference between abstraction and encapsulation ?\n",
        "   - Abstraction :-\n",
        "     - Hides complex implementation and shows only essential details.\n",
        "     - Focuses on what an object does, not how.\n",
        "     - Achieved using abstract classes and interfaces.\n",
        "     - Example : A car's dashboard shows speed but hides engine details.\n",
        "\n",
        "    - Encapsulation :-\n",
        "     - Hides internal data and restricts direct access.\n",
        "     - Protects the object's data from external access.\n",
        "     - Achieved using private variables and getter/setter methods.\n",
        "     - The engine is enclosed, preventing direct modification.\n",
        "\n",
        "5. What are dunder methods in Python ?\n",
        "   - Dunder methods (short for Double Underscore Methods) are special methods in Python that start and end with double underscores (__method__).\n",
        "   - They allow objects to interact with built-in functions and operators, enabling operator overloading, custom object behavior, and automatic method calls.\n",
        "   - Common Dunder Methods :-\n",
        "     - __init__\n",
        "     -__str__\n",
        "     - __repr__\n",
        "     - __len__\n",
        "     - __call__\n",
        "     - __getitem__\n",
        "     - __setitem__\n",
        "     -__add__, __sub__, __mul__\n",
        "   \n",
        "6.  Explain the concept of inheritance in OOP ?\n",
        "  - Inheritance is an Object-Oriented Programming (OOP) concept where a child class (subclass) inherits properties and methods from a parent class (superclass). This promotes code reuse, modularity, and hierarchical relationships between classes.\n",
        "  - Types of Inheritance :\n",
        "\n",
        "     - Single Inheritance\n",
        "     - Multiple Inheritance\n",
        "     - Multilevel Inheritance\n",
        "     - Hierarchical Inheritance\n",
        "     - Hybrid Inheritance\n",
        "\n",
        "  \n",
        "  7. What is polymorphism in OOP ?\n",
        "    - Polymorphism means \"many forms\" and allows objects of different classes to be treated as objects of a common superclass. It enables a single interface to represent different data types or classes, improving flexibility and code reusability.\n",
        "    - Types of Polymorphism :\n",
        "      - Method Overriding\n",
        "\n",
        "      - Method Overloading\n",
        "\n",
        "      - Operator Overloading\n",
        "\n",
        "\n",
        "8. How is encapsulation achieved in Python ?\n",
        "  - Encapsulation is an OOP principle that restricts direct access to an object’s data and only allows modification through methods. It helps protect data integrity and prevents unintended modifications.\n",
        "  - How to Achieve Encapsulation in Python ;\n",
        "  - Python achieves encapsulation using access modifiers:\n",
        "    - Public (var) – Accessible from anywhere\n",
        "    - Protected (_var) – Should be accessed only within the class and subclasses\n",
        "    - Private (__var) – Not directly accessible outside the class.\n",
        "\n",
        "\n",
        "9. What is a constructor in Python\n",
        "   - A constructor is a special method in Python that is automatically called when a new instance (object) of a class is created\n",
        "   - Its main role is to initialize the object's attributes with initial values\n",
        "   - In Python, the constructor is defined using the special method __init__().\n",
        "   - The constructor is called when an object is instantiated.\n",
        "   - It allows you to set up the object's initial state by assigning values to its attributes.\n",
        "   - The self parameter refers to the current instance of the class\n",
        "   - It takes parameters (name and age) and assigns them to self.name and self.age.\n",
        "   - The object person1 is created with initial values \"Alice\" and 30.\n",
        "\n",
        "\n",
        "10. What are class and static methods in Python\n",
        "\n",
        "   - In Python, class methods and static methods are two types of methods that are defined at the class level, rather than the instance level. They are used to perform actions related to the class itself, rather than its instances (objects).\n",
        "   - Class Method :-\n",
        "     - Bound to the class: A class method takes the class itself (cls) as the first argument, instead of the instance (self).\n",
        "     - Used for class-level operations, such as creating instances or modifying class-level attributes.\n",
        "     - Defined using the @classmethod decorator.\n",
        "\n",
        "  - Static Method :-\n",
        "\n",
        "     - Not bound to the class or instance: A static method doesn’t take self or cls as the first argument.\n",
        "     - It is used for utility functions that don't modify or access class or instance attributes but are related to the class.\n",
        "     - Defined using the @staticmethod decorator.\n",
        "\n",
        "\n",
        "11. What is method overloading in Python\n",
        "\n",
        "   - Method Overloading refers to the ability to define multiple methods with the same name but different parameters (number or type).\n",
        "   - However, Python does not natively support method overloading like some other languages (Java, C++). Instead, Python allows you to achieve similar behavior through default arguments or variable-length arguments.\n",
        "   - How to Achieve Method Overloading in Python :-\n",
        "     - Using Default Arguments\n",
        "     - Using *args and **kwargs\n",
        "\n",
        "\n",
        " 12. What is method overriding in OOP\n",
        "\n",
        "   - Method overriding is a concept in Object-Oriented Programming (OOP) where a child class provides its own implementation of a method that is already defined in its parent class.\n",
        "   - The method in the child class overrides the method in the parent class. This allows the child class to modify or extend the behavior of the inherited method.\n",
        "   - How Method Overriding Works :-\n",
        "\n",
        "         1) Inherit the Parent Class Method: The child class inherits the speak method from the Animal class\n",
        "         2) Override the Method: In the Dog and Cat classes, we override the speak method to provide specific behavior for each class.\n",
        "         3) Dynamic Binding: When calling speak() on a Dog or Cat object, Python dynamically binds the correct method based on the object's actual type.\n",
        "\n",
        "\n",
        "\n",
        "13. What is a property decorator in Python\n",
        "\n",
        "  - The property decorator in Python is a built-in decorator that is used to define getter methods in a class.\n",
        "  - It allows you to define a method that can be accessed like an attribute, without explicitly calling it as a method\n",
        "  - This is useful when you want to control the access to an attribute, add additional logic, or enforce constraints while keeping the syntax clean.\n",
        "  - Why Use the Property Decorator :-\n",
        "\n",
        "      - To encapsulate the access to an attribute and add logic.\n",
        "      - To define getter, setter, and deleter methods for an attribute without needing to manually call them.\n",
        "      - To provide a more Pythonic interface where methods are accessed like attributes.\n",
        "\n",
        "\n",
        "14. Why is polymorphism important in OOP\n",
        "\n",
        "   - Polymorphism is a key principle in Object-Oriented Programming (OOP) that allows objects of different classes to be treated as objects of a common superclass\n",
        "   - The word \"polymorphism\" means \"many forms,\" and it enables a single interface to represent multiple types of objects. It plays a crucial role in improving flexibility, maintainability, and scalability in software development.\n",
        "   - Polymorphism is one of the most powerful features in OOP, helping to create cleaner, more flexible, and easily extensible systems. Would you like a more detailed real-world analogy\n",
        "\n",
        "\n",
        "\n",
        "15. What is an abstract class in Python\n",
        "\n",
        "   - An abstract class in Python is a class that cannot be instantiated on its own and is meant to be subclassed by other classes.\n",
        "   - It serves as a blueprint for other classes, providing common functionality that must be implemented by its subclasses.\n",
        "   - Python’s abc module (Abstract Base Classes) provides the tools to define abstract classes and methods. An abstract method is a method that is declared in the abstract class but does not have any implementation.\n",
        "   - Subclasses that inherit from the abstract class are required to implement these abstract methods.\n",
        "\n",
        "\n",
        "\n",
        "16. What are the advantages of OOP\n",
        "\n",
        "  - Adavantages :-\n",
        "        1. Modularity - This makes the code more modular and easier to maintain\n",
        "        2. Reusability - it can be reused in multiple places in the code.\n",
        "        3. Scalability - OOP allows systems to be easily scaled by adding new classes and modifying existing ones without affecting the overall structure.\n",
        "        4. Maintainability - OOP promotes better code organization, which makes it easier to maintain and update\n",
        "        5. Flexibility - Polymorphism allows you to use a single method or function for different types of objects. This enables flexibility in how objects of different classes are treated and interacted with.\n",
        "  \n",
        "\n",
        "  17. What is the difference between a class variable and an instance variable\n",
        "\n",
        "     - Class Variables :-\n",
        "        - Definition: Class variables are shared by all instances of a class. They are defined within the class but outside of any instance methods (e.g., __init__).\n",
        "        - Scope: Class variables are accessible through the class itself and also through instances of the class.\n",
        "        - Usage: Typically used to store data or properties that are common to all instances of the class\n",
        "        - Modification: If you modify a class variable through an instance, it will change the value for all instances, unless you explicitly make the instance variable override the class variable\n",
        "\n",
        "      - Instance Variables :-\n",
        "        - Definition: Instance variables are specific to each instance (object) of a class. They are typically defined inside the __init__ method and are prefixed with self.\n",
        "        - Scope: Instance variables are only accessible through instances of the class, not the class itself.\n",
        "        - Usage: Used to store data that is unique to each object or instance of the class.\n",
        "        - Modification: Changes made to an instance variable only affect that instance of the class.\n",
        "\n",
        "\n",
        "\n",
        "18. What is multiple inheritance in Python\n",
        "\n",
        "   - Multiple inheritance is a feature in Python where a class can inherit from more than one parent class. This allows the child class to inherit attributes and methods from multiple classes, enabling code reuse and enhanced functionality.\n",
        "   - In Python, a class can inherit from multiple classes, which can be beneficial in certain situations, but it also introduces complexity that must be carefully managed, particularly in case of method name conflicts.\n",
        "   - Multiple inheritance allows a class to inherit from more than one parent class.\n",
        "   - It provides benefits like code reuse and flexibility, but requires careful management of potential complexities like method name conflicts.\n",
        "\n",
        "\n",
        "19. Explain the purpose of ‘’__str__’ and ‘__repr__’ ‘ methods in Python ?\n",
        "\n",
        "   - Both __str__ and __repr__ are special methods in Python used to define how objects are represented as strings. These methods are important for customizing the string representation of objects when they are printed or logged.\n",
        "   - __str__: Focused on user-friendly output, often used when printing the object.\n",
        "   - __repr__: Focused on providing a detailed and unambiguous representation, useful for debugging.\n",
        "   __str__ provides a simple and user-friendly string like \"2020 Toyota Corolla\". This is the format that will be printed when the object is passed to print().\n",
        "   - __repr__ provides a more formal and unambiguous string like Car('Toyota', 'Corolla', 2020), which is the format you would see in an interactive session or if you use repr(). It provides all the details necessary to recreate the object.\n",
        "   - __str__: Provides a user-friendly string representation, used when printing the object or converting it to a string\n",
        "   - __repr__: Provides a precise, unambiguous string representation, useful for debugging and ideally should represent how to recreate the object.\n",
        "\n",
        "\n",
        "20. What is the significance of the ‘super()’ function in Python\n",
        "\n",
        "   - The super() function in Python is used to call methods from a parent class (or superclass) in a child class (or subclass). It provides a way to refer to the parent class without explicitly naming it, which is especially useful in the context of inheritance and method overriding.\n",
        "   - Using super() is most commonly seen when you want to:\n",
        "   - Call a method from a parent class inside an overridden method in a child class.\n",
        "   - Ensure that the method resolution order (MRO) works correctly, especially when dealing with multiple inheritance.\n",
        "\n",
        "\n",
        " 21. What is the significance of the __del__ method in Python\n",
        "\n",
        "    - The __del__ method in Python is a special method known as a destructor. It is called when an object is destroyed or garbage collected. Its primary purpose is to clean up resources (such as closing files, releasing memory, or network connections) before the object is destroyed.\n",
        "    - The __del__ method is invoked when an object's reference count reaches zero, meaning the object is no longer in use.\n",
        "    - Python uses automatic garbage collection to manage memory, and the __del__ method is triggered when the garbage collector decides that an object is no longer reachable or necessary.\n",
        "    - Important Notes About __del__:\n",
        "      - Unpredictable Timing\n",
        "      - Avoid Resource Leaks\n",
        "      - Caution with Exceptions\n",
        "      \n",
        "\n",
        "  22.  What is the difference between @staticmethod and @classmethod in Python ?\n",
        "    \n",
        "    - @staticmethod:-\n",
        "         - Definition: A @staticmethod is a method that does not take the self or cls parameter. It is bound to the class, but it does not have access to the instance (self) or the class itself (cls).\n",
        "         - Use Case: It's used when a method does not need access to either the instance or the class. It's just a method that belongs to the class logically but doesn't operate on its attributes or methods.\n",
        "         - Calling: Can be called directly on the class or on an instance of the class.\n",
        "\n",
        "      - @classmethod:-\n",
        "          - Definition: A @classmethod is a method that takes the class (cls) as its first parameter, instead of the instance (self). This allows the method to access and modify class-level attributes and methods.\n",
        "          - Use Case: It's used when a method needs to operate on or modify the class state (class variables) rather than the instance state.\n",
        "          - Calling: Can be called directly on the class or on an instance, but it always receives the class (cls) as the first argument.\n",
        "\n",
        "\n",
        "  23. How does polymorphism work in Python with inheritance ?\n",
        "     - Polymorphism is a core principle of Object-Oriented Programming (OOP) that allows objects of different classes to be treated as objects of a common superclass. In Python, polymorphism works particularly well with inheritance, as it allows the same method to behave differently based on the object type, even when that method is called in the same way.\n",
        "     - How Polymorphism Works in Python with Inheritance :-\n",
        "        - Inheritance: A child class inherits methods and attributes from a parent class\n",
        "        - Method Overriding: The child class can override methods of the parent class to provide its own implementation, creating different behavior for the same method across different classes.\n",
        "        - Dynamic Method Resolution: Python’s dynamic typing and late binding (dynamic method resolution) allow the correct method to be called based on the actual type of the object (even if it is referenced as a parent class type).\n",
        "\n",
        "\n",
        "  24. What is method chaining in Python OOP\n",
        "     - Method chaining is a technique in Python (and other programming languages) where multiple methods are called on the same object in a single line of code.\n",
        "     -  It is made possible by having each method return the object itself (i.e., self), which allows subsequent method calls to be chained together\n",
        "     - How Method Chaining Works :-\n",
        "         - Each method returns self: This ensures that the object itself is returned after each method call.\n",
        "         - Calling multiple methods in one statement: Since each method returns the object (self), you can directly call another method on the same object without needing to store intermediate results.\n",
        "     - Advantages of Method Chaining:-\n",
        "         - Cleaner Code\n",
        "         - Fluent Interface\n",
        "         - Improved Expressiveness\n",
        "\n",
        "\n",
        "  25.  What is the purpose of the __call__ method in Python ?\n",
        "\n",
        "      - The __call__ method in Python is a special method that allows an object of a class to be called like a function. When you define the __call__ method in a class, you enable instances of that class to be invoked directly as if they were functions\n",
        "      - How __call__ Works :-\n",
        "         - When you use parentheses () to \"call\" an instance of a class, Python looks for the __call__ method in that class.\n",
        "         - If the __call__ method is defined, it is executed with the arguments provided in the parentheses.\n",
        "       \n",
        "\n",
        "\n",
        "\n",
        "\n",
        "\n",
        "\n",
        "\n",
        "\n",
        "\n",
        "\n",
        "\n"
      ],
      "metadata": {
        "id": "vChnUKWt5A1v"
      }
    },
    {
      "cell_type": "code",
      "source": [
        "# Create a parent class Animal with a method speak() that prints a generic message. Create a child class Dogthat overrides the speak() method to print \"Bark!\"\n",
        "\n",
        "class Animal:\n",
        "    def speak(self):\n",
        "        print(\"Animal makes a sound\")\n",
        "\n",
        "class Dog(Animal):\n",
        "    def speak(self):\n",
        "        print(\"Bark!\")\n",
        "\n",
        "animal = Animal()\n",
        "dog = Dog()\n",
        "\n",
        "animal.speak()\n",
        "dog.speak()"
      ],
      "metadata": {
        "colab": {
          "base_uri": "https://localhost:8080/"
        },
        "id": "wVP1xRv6b8UD",
        "outputId": "8ed2b55c-4ca4-4d2b-ab37-dacae863e17d"
      },
      "execution_count": 1,
      "outputs": [
        {
          "output_type": "stream",
          "name": "stdout",
          "text": [
            "Animal makes a sound\n",
            "Bark!\n"
          ]
        }
      ]
    },
    {
      "cell_type": "code",
      "source": [
        "# Write a program to create an abstract class Shape with a method area(). Derive classes Circle and Rectangle from it and implement the area() method in both.\n",
        "\n",
        "from abc import ABC, abstractmethod\n",
        "import math\n",
        "\n",
        "class Shape(ABC):\n",
        "    @abstractmethod\n",
        "    def area(self):\n",
        "        pass\n",
        "\n",
        "class Circle(Shape):\n",
        "    def __init__(self, radius):\n",
        "        self.radius = radius\n",
        "\n",
        "    def area(self):\n",
        "        return math.pi * (self.radius ** 2)\n",
        "\n",
        "class Rectangle(Shape):\n",
        "    def __init__(self, width, height):\n",
        "        self.width = width\n",
        "        self.height = height\n",
        "\n",
        "    def area(self):\n",
        "        return self.width * self.height\n",
        "\n",
        "circle = Circle(5)\n",
        "rectangle = Rectangle(4, 6)\n",
        "\n",
        "print(f\"Area of Circle: {circle.area()}\")\n",
        "print(f\"Area of Rectangle: {rectangle.area()}\")\n"
      ],
      "metadata": {
        "colab": {
          "base_uri": "https://localhost:8080/"
        },
        "id": "JAzSbDWVcjyn",
        "outputId": "6f79e575-be88-44bd-88d5-6ff668936e82"
      },
      "execution_count": 2,
      "outputs": [
        {
          "output_type": "stream",
          "name": "stdout",
          "text": [
            "Area of Circle: 78.53981633974483\n",
            "Area of Rectangle: 24\n"
          ]
        }
      ]
    },
    {
      "cell_type": "code",
      "source": [
        "#  Implement a multi-level inheritance scenario where a class Vehicle has an attribute type. Derive a class Car and further derive a class ElectricCar that adds a battery attribute.\n",
        "\n",
        "class Vehicle:\n",
        "    def __init__(self, vehicle_type):\n",
        "        self.type = vehicle_type\n",
        "    def display_type(self):\n",
        "        print(f\"Vehicle Type: {self.type}\")\n",
        "\n",
        "class Car(Vehicle):\n",
        "    def __init__(self, vehicle_type, model):\n",
        "        super().__init__(vehicle_type)\n",
        "        self.model = model\n",
        "\n",
        "    def display_model(self):\n",
        "        print(f\"Car Model: {self.model}\")\n",
        "\n",
        "class ElectricCar(Car):\n",
        "    def __init__(self, vehicle_type, model, battery):\n",
        "        super().__init__(vehicle_type, model)\n",
        "        self.battery = battery\n",
        "\n",
        "    def display_battery(self):\n",
        "        print(f\"Battery: {self.battery} kWh\")\n",
        "\n",
        "electric_car = ElectricCar(\"Electric\", \"Tesla Model S\", 100)\n",
        "\n",
        "electric_car.display_type()\n",
        "electric_car.display_model()\n",
        "electric_car.display_battery()\n"
      ],
      "metadata": {
        "colab": {
          "base_uri": "https://localhost:8080/"
        },
        "id": "4RJhZTh3dD8s",
        "outputId": "ad84fa4f-0d39-4131-e687-f07005bbbd6f"
      },
      "execution_count": 3,
      "outputs": [
        {
          "output_type": "stream",
          "name": "stdout",
          "text": [
            "Vehicle Type: Electric\n",
            "Car Model: Tesla Model S\n",
            "Battery: 100 kWh\n"
          ]
        }
      ]
    },
    {
      "cell_type": "code",
      "source": [
        "# Write a program to demonstrate encapsulation by creating a class BankAccount with private attributes balance and methods to deposit, withdraw, and check balance.\n",
        "\n",
        "class BankAccount:\n",
        "    def __init__(self, initial_balance):\n",
        "        self.__balance = initial_balance\n",
        "\n",
        "    def deposit(self, amount):\n",
        "        if amount > 0:\n",
        "            self.__balance += amount\n",
        "            print(f\"Deposited: {amount}\")\n",
        "        else:\n",
        "            print(\"Deposit amount must be positive.\")\n",
        "\n",
        "    def withdraw(self, amount):\n",
        "        if amount > 0 and amount <= self.__balance:\n",
        "            self.__balance -= amount\n",
        "            print(f\"Withdrawn: {amount}\")\n",
        "        else:\n",
        "            print(\"Insufficient funds or invalid amount.\")\n",
        "\n",
        "    def check_balance(self):\n",
        "        print(f\"Current balance: {self.__balance}\")\n",
        "\n",
        "    def get_balance(self):\n",
        "        return self.__balance\n",
        "\n",
        "    def set_balance(self, amount):\n",
        "        if amount >= 0:\n",
        "            self.__balance = amount\n",
        "        else:\n",
        "            print(\"Balance cannot be negative.\")\n",
        "\n",
        "account = BankAccount(1000)\n",
        "\n",
        "account.check_balance()  # Output: Current balance: 1000\n",
        "\n",
        "\n"
      ],
      "metadata": {
        "colab": {
          "base_uri": "https://localhost:8080/"
        },
        "id": "ol_6LdlKeI0_",
        "outputId": "4737be3d-03cb-4c1b-dfa1-c42c1a366361"
      },
      "execution_count": 7,
      "outputs": [
        {
          "output_type": "stream",
          "name": "stdout",
          "text": [
            "Current balance: 1000\n"
          ]
        }
      ]
    },
    {
      "cell_type": "code",
      "source": [
        "#  Demonstrate runtime polymorphism using a method play() in a base class Instrument. Derive classes Guitar and Piano that implement their own version of play().\n",
        "\n",
        "class Instrument:\n",
        "    def play(self):\n",
        "        print(\"Playing a generic instrument\")\n",
        "\n",
        "class Guitar(Instrument):\n",
        "    def play(self):\n",
        "        print(\"Strumming the guitar\")\n",
        "\n",
        "class Piano(Instrument):\n",
        "    def play(self):\n",
        "        print(\"Playing the piano\")\n",
        "\n",
        "guitar = Guitar()\n",
        "piano = Piano()\n",
        "\n",
        "def play_instrument(instrument):\n",
        "    instrument.play()\n",
        "\n",
        "play_instrument(guitar)  # Output: Strumming the guitar\n",
        "play_instrument(piano)   # Output: Playing the piano\n"
      ],
      "metadata": {
        "colab": {
          "base_uri": "https://localhost:8080/"
        },
        "id": "c9z5P7jAfBEU",
        "outputId": "a786aec0-1c8d-489d-93f2-84fe1b736a48"
      },
      "execution_count": 8,
      "outputs": [
        {
          "output_type": "stream",
          "name": "stdout",
          "text": [
            "Strumming the guitar\n",
            "Playing the piano\n"
          ]
        }
      ]
    },
    {
      "cell_type": "code",
      "source": [
        "#  Create a class MathOperations with a class method add_numbers() to add two numbers and a static method subtract_numbers() to subtract two numbers\n",
        "\n",
        "class MathOperations:\n",
        "\n",
        "    @classmethod\n",
        "    def add_numbers(cls, num1, num2):\n",
        "        return num1 + num2\n",
        "\n",
        "    @staticmethod\n",
        "    def subtract_numbers(num1, num2):\n",
        "        return num1 - num2\n",
        "\n",
        "sum_result = MathOperations.add_numbers(10, 5)\n",
        "print(f\"Sum: {sum_result}\")  # Output: Sum: 15\n",
        "\n",
        "difference_result = MathOperations.subtract_numbers(10, 5)\n",
        "print(f\"Difference: {difference_result}\")  # Output: Difference: 5\n"
      ],
      "metadata": {
        "colab": {
          "base_uri": "https://localhost:8080/"
        },
        "id": "dWf-9f2SfXpW",
        "outputId": "ef9f075d-cd4a-490e-86c3-6bac1899baf4"
      },
      "execution_count": 9,
      "outputs": [
        {
          "output_type": "stream",
          "name": "stdout",
          "text": [
            "Sum: 15\n",
            "Difference: 5\n"
          ]
        }
      ]
    },
    {
      "cell_type": "code",
      "source": [
        "# Implement a class Person with a class method to count the total number of persons created\n",
        "\n",
        "class Person:\n",
        "\n",
        "    count = 0\n",
        "\n",
        "    def __init__(self, name, age):\n",
        "        self.name = name\n",
        "        self.age = age\n",
        "\n",
        "        Person.count += 1\n",
        "\n",
        "    @classmethod\n",
        "    def get_person_count(cls):\n",
        "        return cls.count\n",
        "\n",
        "person1 = Person(\"Alice\", 30)\n",
        "person2 = Person(\"Bob\", 25)\n",
        "person3 = Person(\"Charlie\", 35)\n",
        "\n",
        "print(f\"Total number of persons created: {Person.get_person_count()}\")  # Output: 3\n"
      ],
      "metadata": {
        "colab": {
          "base_uri": "https://localhost:8080/"
        },
        "id": "Rp9z-XXxfsWM",
        "outputId": "183d3ca7-a26e-417b-e232-1582f32aec5b"
      },
      "execution_count": 10,
      "outputs": [
        {
          "output_type": "stream",
          "name": "stdout",
          "text": [
            "Total number of persons created: 3\n"
          ]
        }
      ]
    },
    {
      "cell_type": "code",
      "source": [
        "#  Write a class Fraction with attributes numerator and denominator. Override the str method to display the fraction as \"numerator/denominator\".\n",
        "\n",
        "class Fraction:\n",
        "    def __init__(self, numerator, denominator):\n",
        "        self.numerator = numerator\n",
        "        self.denominator = denominator\n",
        "    def __str__(self):\n",
        "        return f\"{self.numerator}/{self.denominator}\"\n",
        "\n",
        "fraction1 = Fraction(3, 4)\n",
        "fraction2 = Fraction(5, 7)\n",
        "\n",
        "print(fraction1)  # Output: 3/4\n",
        "print(fraction2)  # Output: 5/7\n"
      ],
      "metadata": {
        "colab": {
          "base_uri": "https://localhost:8080/"
        },
        "id": "N2Zn2KnugFKu",
        "outputId": "9096f642-2674-4f27-bdc1-84df5ba133f6"
      },
      "execution_count": 11,
      "outputs": [
        {
          "output_type": "stream",
          "name": "stdout",
          "text": [
            "3/4\n",
            "5/7\n"
          ]
        }
      ]
    },
    {
      "cell_type": "code",
      "source": [
        "#  Demonstrate operator overloading by creating a class Vector and overriding the add method to add two vectors\n",
        "\n",
        "class Vector:\n",
        "    def __init__(self, x, y):\n",
        "        self.x = x\n",
        "        self.y = y\n",
        "\n",
        "    def __add__(self, other):\n",
        "        return Vector(self.x + other.x, self.y + other.y)\n",
        "\n",
        "    def __str__(self):\n",
        "        return f\"({self.x}, {self.y})\"\n",
        "\n",
        "vector1 = Vector(3, 4)\n",
        "vector2 = Vector(1, 2)\n",
        "\n",
        "result_vector = vector1 + vector2\n",
        "\n",
        "print(f\"Vector 1: {vector1}\")  # Output: Vector 1: (3, 4)\n",
        "print(f\"Vector 2: {vector2}\")  # Output: Vector 2: (1, 2)\n",
        "print(f\"Result of addition: {result_vector}\")  # Output: Result of addition: (4, 6)\n"
      ],
      "metadata": {
        "colab": {
          "base_uri": "https://localhost:8080/"
        },
        "id": "f190A4spgVkR",
        "outputId": "fd227afb-07b0-4ecc-ccd3-404b9cca375a"
      },
      "execution_count": 12,
      "outputs": [
        {
          "output_type": "stream",
          "name": "stdout",
          "text": [
            "Vector 1: (3, 4)\n",
            "Vector 2: (1, 2)\n",
            "Result of addition: (4, 6)\n"
          ]
        }
      ]
    },
    {
      "cell_type": "code",
      "source": [
        "#  Create a class Person with attributes name and age. Add a method greet() that prints \"Hello, my name is {name} and I am {age} years old.\"\n",
        "\n",
        "class Person:\n",
        "    def __init__(self, name, age):\n",
        "        self.name = name\n",
        "        self.age = age\n",
        "\n",
        "    def greet(self):\n",
        "        print(f\"Hello, my name is {self.name} and I am {self.age} years old.\")\n",
        "\n",
        "person1 = Person(\"Alice\", 30)\n",
        "person2 = Person(\"Bob\", 25)\n",
        "\n",
        "person1.greet()\n",
        "person2.greet()"
      ],
      "metadata": {
        "colab": {
          "base_uri": "https://localhost:8080/"
        },
        "id": "wG69atHLgsDA",
        "outputId": "c909ae23-fb3e-4fdf-ec83-0eb83485f020"
      },
      "execution_count": 13,
      "outputs": [
        {
          "output_type": "stream",
          "name": "stdout",
          "text": [
            "Hello, my name is Alice and I am 30 years old.\n",
            "Hello, my name is Bob and I am 25 years old.\n"
          ]
        }
      ]
    },
    {
      "cell_type": "code",
      "source": [
        "#  Implement a class Student with attributes name and grades. Create a method average_grade() to compute the average of the grades.\n",
        "\n",
        "class Student:\n",
        "    def __init__(self, name, grades):\n",
        "        self.name = name\n",
        "        self.grades = grades\n",
        "\n",
        "    def average_grade(self):\n",
        "        if len(self.grades) > 0:\n",
        "            return sum(self.grades) / len(self.grades)\n",
        "        else:\n",
        "            return 0\n",
        "\n",
        "student1 = Student(\"Alice\", [85, 90, 88, 92])\n",
        "student2 = Student(\"Bob\", [78, 82, 80])\n",
        "\n",
        "print(f\"{student1.name}'s average grade: {student1.average_grade()}\")\n",
        "print(f\"{student2.name}'s average grade: {student2.average_grade()}\")\n"
      ],
      "metadata": {
        "colab": {
          "base_uri": "https://localhost:8080/"
        },
        "id": "U67ErF1VhGY0",
        "outputId": "ac3da8a0-4212-4264-9006-7f9d38c8097d"
      },
      "execution_count": 14,
      "outputs": [
        {
          "output_type": "stream",
          "name": "stdout",
          "text": [
            "Alice's average grade: 88.75\n",
            "Bob's average grade: 80.0\n"
          ]
        }
      ]
    },
    {
      "cell_type": "code",
      "source": [
        "# Create a class Rectangle with methods set_dimensions() to set the dimensions and area() to calculate the area.\n",
        "\n",
        "class Rectangle:\n",
        "    def __init__(self):\n",
        "        self.width = 0\n",
        "        self.height = 0\n",
        "\n",
        "    def set_dimensions(self, width, height):\n",
        "        self.width = width\n",
        "        self.height = height\n",
        "\n",
        "    def area(self):\n",
        "        return self.width * self.height\n",
        "\n",
        "rectangle = Rectangle()\n",
        "\n",
        "rectangle.set_dimensions(5, 3)\n",
        "\n",
        "print(f\"Area of rectangle: {rectangle.area()}\")  # Output: Area of rectangle: 15\n"
      ],
      "metadata": {
        "colab": {
          "base_uri": "https://localhost:8080/"
        },
        "id": "gd5A9vaHhiFL",
        "outputId": "f96d28f5-0547-4674-e769-15a09789b16c"
      },
      "execution_count": 15,
      "outputs": [
        {
          "output_type": "stream",
          "name": "stdout",
          "text": [
            "Area of rectangle: 15\n"
          ]
        }
      ]
    },
    {
      "cell_type": "code",
      "source": [
        "#  Create a class Employee with a method calculate_salary() that computes the salary based on hours worked and hourly rate. Create a derived class Manager that adds a bonus to the salary\n",
        "\n",
        "class Employee:\n",
        "    def __init__(self, name, hours_worked, hourly_rate):\n",
        "        self.name = name\n",
        "        self.hours_worked = hours_worked\n",
        "        self.hourly_rate = hourly_rate\n",
        "\n",
        "    def calculate_salary(self):\n",
        "        return self.hours_worked * self.hourly_rate\n",
        "\n",
        "class Manager(Employee):\n",
        "    def __init__(self, name, hours_worked, hourly_rate, bonus):\n",
        "        super().__init__(name, hours_worked, hourly_rate)\n",
        "        self.bonus = bonus\n",
        "\n",
        "    def calculate_salary(self):\n",
        "        base_salary = super().calculate_salary()\n",
        "        return base_salary + self.bonus\n",
        "\n",
        "employee = Employee(\"Girish\", 40, 20)\n",
        "manager = Manager(\"Pranav\", 40, 30, 500)\n",
        "\n",
        "print(f\"{employee.name}'s Salary: ${employee.calculate_salary()}\")\n",
        "print(f\"{manager.name}'s Salary (with bonus): ${manager.calculate_salary()}\")"
      ],
      "metadata": {
        "colab": {
          "base_uri": "https://localhost:8080/"
        },
        "id": "8j7TpJUAh_Bt",
        "outputId": "2b666a26-f3d2-4167-8ef8-191945e0aea8"
      },
      "execution_count": 17,
      "outputs": [
        {
          "output_type": "stream",
          "name": "stdout",
          "text": [
            "Girish's Salary: $800\n",
            "Pranav's Salary (with bonus): $1700\n"
          ]
        }
      ]
    },
    {
      "cell_type": "code",
      "source": [
        "# Create a class Product with attributes name, price, and quantity. Implement a method total_price() that calculates the total price of the product.\n",
        "\n",
        "class Product:\n",
        "    def __init__(self, name, price, quantity):\n",
        "        self.name = name\n",
        "        self.price = price\n",
        "        self.quantity = quantity\n",
        "\n",
        "    def total_price(self):\n",
        "        return self.price * self.quantity\n",
        "\n",
        "product1 = Product(\"Laptop\", 1000, 2)\n",
        "product2 = Product(\"Smartphone\", 500, 5)\n",
        "\n",
        "print(f\"Total price of {product1.name}: ${product1.total_price()}\")\n",
        "print(f\"Total price of {product2.name}: ${product2.total_price()}\")"
      ],
      "metadata": {
        "colab": {
          "base_uri": "https://localhost:8080/"
        },
        "id": "MV9x4xNiirns",
        "outputId": "744e1489-391e-4638-e4d5-51a3ad736271"
      },
      "execution_count": 18,
      "outputs": [
        {
          "output_type": "stream",
          "name": "stdout",
          "text": [
            "Total price of Laptop: $2000\n",
            "Total price of Smartphone: $2500\n"
          ]
        }
      ]
    },
    {
      "cell_type": "code",
      "source": [
        "#  Create a class Animal with an abstract method sound(). Create two derived classes Cow and Sheep that implement the sound() method.\n",
        "\n",
        "from abc import ABC, abstractmethod\n",
        "\n",
        "class Animal(ABC):\n",
        "    @abstractmethod\n",
        "    def sound(self):\n",
        "        pass\n",
        "\n",
        "class Cow(Animal):\n",
        "    def sound(self):\n",
        "        return \"Mooooooo\"\n",
        "\n",
        "class Sheep(Animal):\n",
        "    def sound(self):\n",
        "        return \"Baaaaaaa\"\n",
        "\n",
        "cow = Cow()\n",
        "sheep = Sheep()\n",
        "\n",
        "print(f\"Cow sound: {cow.sound()}\")   # Output: Cow sound: Moo\n",
        "print(f\"Sheep sound: {sheep.sound()}\") # Output: Sheep sound: Baa\n"
      ],
      "metadata": {
        "colab": {
          "base_uri": "https://localhost:8080/"
        },
        "id": "nrpqVFC1jGdk",
        "outputId": "aa84ac31-4540-49fe-c607-d0857f194c4d"
      },
      "execution_count": 20,
      "outputs": [
        {
          "output_type": "stream",
          "name": "stdout",
          "text": [
            "Cow sound: Mooooooo\n",
            "Sheep sound: Baaaaaaa\n"
          ]
        }
      ]
    },
    {
      "cell_type": "code",
      "source": [
        "#  Create a class Book with attributes title, author, and year_published. Add a method get_book_info() that returns a formatted string with the book's details.\n",
        "\n",
        "class Book:\n",
        "    def __init__(self, title, author, year_published):\n",
        "        self.title = title\n",
        "        self.author = author\n",
        "        self.year_published = year_published\n",
        "\n",
        "    def get_book_info(self):\n",
        "        return f\"'{self.title}' by {self.author}, published in {self.year_published}\"\n",
        "\n",
        "book1 = Book(\"1984\", \"George Orwell\", 1949)\n",
        "book2 = Book(\"To Kill a Mockingbird\", \"Harper Lee\", 1960)\n",
        "\n",
        "print(book1.get_book_info())\n",
        "print(book2.get_book_info())"
      ],
      "metadata": {
        "colab": {
          "base_uri": "https://localhost:8080/"
        },
        "id": "0Ri-FwFqjhdc",
        "outputId": "1db20375-682d-497b-8189-2206e587ee91"
      },
      "execution_count": 21,
      "outputs": [
        {
          "output_type": "stream",
          "name": "stdout",
          "text": [
            "'1984' by George Orwell, published in 1949\n",
            "'To Kill a Mockingbird' by Harper Lee, published in 1960\n"
          ]
        }
      ]
    },
    {
      "cell_type": "code",
      "source": [
        "# Create a class House with attributes address and price. Create a derived class Mansion that adds an attribute number_of_rooms\n",
        "\n",
        "\n",
        "class House:\n",
        "    def __init__(self, address, price):\n",
        "        self.address = address\n",
        "        self.price = price\n",
        "\n",
        "    def get_house_info(self):\n",
        "        return f\"Address: {self.address}, Price: ${self.price}\"\n",
        "\n",
        "class Mansion(House):\n",
        "    def __init__(self, address, price, number_of_rooms):\n",
        "        super().__init__(address, price)\n",
        "        self.number_of_rooms = number_of_rooms\n",
        "\n",
        "    def get_mansion_info(self):\n",
        "        return f\"{super().get_house_info()}, Rooms: {self.number_of_rooms}\"\n",
        "\n",
        "house = House(\"123 Main St\", 250000)\n",
        "mansion = Mansion(\"456 Luxury Avenew\", 1000000, 10)\n",
        "\n",
        "print(house.get_house_info())\n",
        "print(mansion.get_mansion_info())"
      ],
      "metadata": {
        "colab": {
          "base_uri": "https://localhost:8080/"
        },
        "id": "zo16eSNKj7_b",
        "outputId": "b0fb6107-bf6b-4fa1-8603-cbc5ade7541c"
      },
      "execution_count": 23,
      "outputs": [
        {
          "output_type": "stream",
          "name": "stdout",
          "text": [
            "Address: 123 Main St, Price: $250000\n",
            "Address: 456 Luxury Avenew, Price: $1000000, Rooms: 10\n"
          ]
        }
      ]
    }
  ]
}